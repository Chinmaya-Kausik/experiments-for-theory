{
 "cells": [
  {
   "cell_type": "code",
   "execution_count": 6,
   "id": "f9a61987",
   "metadata": {},
   "outputs": [],
   "source": [
    "import numpy as np\n",
    "import matplotlib.pyplot as plt\n",
    "from numpy import random\n",
    "from numpy.random import default_rng\n",
    "rng = default_rng()\n"
   ]
  },
  {
   "cell_type": "code",
   "execution_count": 152,
   "id": "f98fa954",
   "metadata": {},
   "outputs": [],
   "source": [
    "eps = 0.01\n",
    "a1 = np.array([eps, 0.5])\n",
    "a2 = np.array([1-eps, 0.5])"
   ]
  },
  {
   "cell_type": "code",
   "execution_count": 153,
   "id": "88a4bf68",
   "metadata": {},
   "outputs": [],
   "source": [
    "def get_seqs(ber_list, num_trials, H):\n",
    "    seqs = np.zeros([num_trials, H])\n",
    "    for i in range(num_trials):\n",
    "        seq = np.array([0])\n",
    "        for j in range(H-1):\n",
    "            seq = np.append(seq, rng.binomial(1,ber_list[seq[-1]]))\n",
    "            \n",
    "        seqs[i, :] = seq\n",
    "    \n",
    "    return seqs"
   ]
  },
  {
   "cell_type": "code",
   "execution_count": 154,
   "id": "ef592876",
   "metadata": {},
   "outputs": [],
   "source": [
    "def get_rewards(ber_list, num_trials, H):\n",
    "    seqs = get_seqs(ber_list, num_trials, H)\n",
    "    \n",
    "    rewards = np.zeros(H)\n",
    "    for i in range(H):\n",
    "        rewards[i] = np.sum(seqs[:, :(i+1)])/(1.0*num_trials)\n",
    "    \n",
    "    return rewards"
   ]
  },
  {
   "cell_type": "code",
   "execution_count": 155,
   "id": "5211553c",
   "metadata": {},
   "outputs": [],
   "source": [
    "r1 = get_rewards(a1, 10000, 100)\n",
    "r2 = get_rewards(a2, 10000, 100)\n"
   ]
  },
  {
   "cell_type": "code",
   "execution_count": 156,
   "id": "93a43799",
   "metadata": {},
   "outputs": [
    {
     "data": {
      "text/plain": [
       "[<matplotlib.lines.Line2D at 0x15c4e12c790>]"
      ]
     },
     "execution_count": 156,
     "metadata": {},
     "output_type": "execute_result"
    },
    {
     "data": {
      "image/png": "[encoded data removed]",
      "text/plain": [
       "<Figure size 640x480 with 1 Axes>"
      ]
     },
     "metadata": {},
     "output_type": "display_data"
    }
   ],
   "source": [
    "plt.plot(np.abs(r1-r2))"
   ]
  },
  {
   "cell_type": "code",
   "execution_count": 126,
   "id": "4a244a5c",
   "metadata": {},
   "outputs": [
    {
     "data": {
      "text/plain": [
       "[<matplotlib.lines.Line2D at 0x15c4e3ad0f0>]"
      ]
     },
     "execution_count": 126,
     "metadata": {},
     "output_type": "execute_result"
    },
    {
     "name": "stderr",
     "output_type": "stream",
     "text": [
      "C:\\Users\\chinm\\AppData\\Local\\Programs\\Python\\Python310\\lib\\site-packages\\IPython\\core\\events.py:89: UserWarning: Data has no positive values, and therefore cannot be log-scaled.\n",
      "  func(*args, **kwargs)\n"
     ]
    },
    {
     "data": {
      "image/png": "[encoded data removed]",
      "text/plain": [
       "<Figure size 640x480 with 1 Axes>"
      ]
     },
     "metadata": {},
     "output_type": "display_data"
    }
   ],
   "source": [
    "plt.loglog(r1-r2)"
   ]
  },
  {
   "cell_type": "code",
   "execution_count": 50,
   "id": "8a35b801",
   "metadata": {},
   "outputs": [
    {
     "data": {
      "text/plain": [
       "array([0.75, 1.2 ])"
      ]
     },
     "execution_count": 50,
     "metadata": {},
     "output_type": "execute_result"
    }
   ],
   "source": [
    "np.linalg.eigvals(np.array([a1,a2]))"
   ]
  },
  {
   "cell_type": "code",
   "execution_count": 169,
   "id": "7d231f08",
   "metadata": {},
   "outputs": [
    {
     "data": {
      "text/plain": [
       "array([1. , 0.9])"
      ]
     },
     "execution_count": 169,
     "metadata": {},
     "output_type": "execute_result"
    }
   ],
   "source": [
    "np.linalg.eigvals(np.array([a2,a1]))"
   ]
  },
  {
   "cell_type": "code",
   "execution_count": 157,
   "id": "a16ac325",
   "metadata": {},
   "outputs": [],
   "source": [
    "ber_list = a2\n",
    "num_trials = 10000\n",
    "H = 100"
   ]
  },
  {
   "cell_type": "code",
   "execution_count": 158,
   "id": "d1a17830",
   "metadata": {},
   "outputs": [],
   "source": [
    "dist = np.zeros(H)\n",
    "for i in range(num_trials):\n",
    "    seq = np.array([0])\n",
    "    for j in range(H-1):\n",
    "        seq = np.append(seq, rng.binomial(1,ber_list[seq[-1]]))\n",
    "    \n",
    "    dist += seq/(1.0*num_trials)\n"
   ]
  },
  {
   "cell_type": "code",
   "execution_count": 172,
   "id": "29fce0d7",
   "metadata": {},
   "outputs": [
    {
     "data": {
      "text/plain": [
       "array([0.    , 0.9507, 0.0927, 0.8691, 0.1672, 0.8011, 0.2296, 0.7425,\n",
       "       0.2815, 0.69  , 0.33  , 0.651 , 0.3639, 0.6225, 0.3915, 0.5995,\n",
       "       0.4105, 0.5784, 0.4303, 0.5625, 0.4434, 0.5505, 0.4559, 0.5427,\n",
       "       0.4649, 0.5314, 0.4727, 0.5218, 0.4824, 0.5113, 0.4904, 0.5071,\n",
       "       0.4986, 0.5024, 0.5037, 0.4946, 0.5063, 0.4949, 0.5036, 0.495 ,\n",
       "       0.5047, 0.4948, 0.5046, 0.496 , 0.5022, 0.4978, 0.5047, 0.4962,\n",
       "       0.5049, 0.4954, 0.5032, 0.4975, 0.5042, 0.495 , 0.5073, 0.4923,\n",
       "       0.507 , 0.492 , 0.5091, 0.4922, 0.504 , 0.4974, 0.4975, 0.5042,\n",
       "       0.501 , 0.499 , 0.4993, 0.4984, 0.5052, 0.4971, 0.5006, 0.5029,\n",
       "       0.4983, 0.498 , 0.503 , 0.4953, 0.5007, 0.5026, 0.4966, 0.5012,\n",
       "       0.4987, 0.5054, 0.4912, 0.5063, 0.4949, 0.506 , 0.4958, 0.5047,\n",
       "       0.4975, 0.5008, 0.4961, 0.502 , 0.4991, 0.5044, 0.4972, 0.5016,\n",
       "       0.4997, 0.5008, 0.5045, 0.4935])"
      ]
     },
     "execution_count": 172,
     "metadata": {},
     "output_type": "execute_result"
    }
   ],
   "source": [
    "dist"
   ]
  },
  {
   "cell_type": "code",
   "execution_count": null,
   "id": "36031e1c",
   "metadata": {},
   "outputs": [],
   "source": []
  },
  {
   "cell_type": "code",
   "execution_count": null,
   "id": "6092e9a6",
   "metadata": {},
   "outputs": [],
   "source": []
  },
  {
   "cell_type": "code",
   "execution_count": null,
   "id": "fd7c9eb8",
   "metadata": {},
   "outputs": [],
   "source": [
    "eps = 0.\n",
    "a1 = np.array([0.5-eps, 0.5+eps])\n",
    "a2 = np.array([0.5+eps, 0.5-eps])"
   ]
  }
 ],
 "metadata": {
  "kernelspec": {
   "display_name": "Python 3 (ipykernel)",
   "language": "python",
   "name": "python3"
  },
  "language_info": {
   "codemirror_mode": {
    "name": "ipython",
    "version": 3
   },
   "file_extension": ".py",
   "mimetype": "text/x-python",
   "name": "python",
   "nbconvert_exporter": "python",
   "pygments_lexer": "ipython3",
   "version": "3.10.2"
  }
 },
 "nbformat": 4,
 "nbformat_minor": 5
}
